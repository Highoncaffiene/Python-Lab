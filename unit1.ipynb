{
  "nbformat": 4,
  "nbformat_minor": 0,
  "metadata": {
    "colab": {
      "provenance": [],
      "authorship_tag": "ABX9TyM8IyLLD0atOD8xmZNQJvCc",
      "include_colab_link": true
    },
    "kernelspec": {
      "name": "python3",
      "display_name": "Python 3"
    },
    "language_info": {
      "name": "python"
    }
  },
  "cells": [
    {
      "cell_type": "markdown",
      "metadata": {
        "id": "view-in-github",
        "colab_type": "text"
      },
      "source": [
        "<a href=\"https://colab.research.google.com/github/Highoncaffiene/Python-Lab/blob/main/unit1.ipynb\" target=\"_parent\"><img src=\"https://colab.research.google.com/assets/colab-badge.svg\" alt=\"Open In Colab\"/></a>"
      ]
    },
    {
      "cell_type": "code",
      "execution_count": null,
      "metadata": {
        "id": "HiWAuYCDhGI6",
        "colab": {
          "base_uri": "https://localhost:8080/"
        },
        "outputId": "a89bb3a2-fe9c-4215-b393-d96ed7992c00"
      },
      "outputs": [
        {
          "output_type": "stream",
          "name": "stdout",
          "text": [
            "the score of hulk is 1000 and the score of thor is 2003\n",
            "the score of hulk is 2003 and the score of thor is 1000\n"
          ]
        }
      ],
      "source": [
        "hulk_score = 1000\n",
        "thor_score = 2003\n",
        "\n",
        "print(f\"the score of hulk is {hulk_score} and the score of thor is {thor_score}\")\n",
        "hulk_score,thor_score = thor_score,hulk_score\n",
        "print(f\"the score of hulk is {hulk_score} and the score of thor is {thor_score}\")"
      ]
    },
    {
      "cell_type": "markdown",
      "source": [],
      "metadata": {
        "id": "GP6j2cZ0HRr3"
      }
    },
    {
      "cell_type": "markdown",
      "source": [
        "Thor's hammer weight is 5000(int), but you need to calculate the gravitational foirce which requires it as a flot."
      ],
      "metadata": {
        "id": "tvM-6DH_BoIf"
      }
    },
    {
      "cell_type": "code",
      "source": [
        "hammermass = 5000\n",
        "hammer_weight = hammermass * 9.8\n",
        "print(f\"weight of the hammer is {hammer_weight}\")\n"
      ],
      "metadata": {
        "id": "e-fkBlcmBqGR"
      },
      "execution_count": null,
      "outputs": []
    },
    {
      "cell_type": "markdown",
      "source": [
        "Hulk's strength level is recorded as a string input \"1000\". Convert it into an integrer and incrse it by 200\n",
        "\n"
      ],
      "metadata": {
        "id": "ScqmFzxpApaH"
      }
    },
    {
      "cell_type": "markdown",
      "source": [
        "# Swapping two varibles\n",
        "\n",
        "```\n",
        "\n",
        "```\n",
        "\n",
        "\n"
      ],
      "metadata": {
        "id": "2tic0Dco93yh"
      }
    },
    {
      "cell_type": "markdown",
      "source": [
        "Loki gets input in seconds(as strings) \"3600\". COnvert it itno an integer  and then to hours. Show final result as a float.\n",
        "\n",
        "\n",
        "\n",
        "\n",
        "\n"
      ],
      "metadata": {
        "id": "qdTZGANXBDvY"
      }
    },
    {
      "cell_type": "code",
      "source": [
        "time = \"3600\"\n",
        "inttime = int(time)\n",
        "print(f\"Time in hours is {inttime/3600}\")"
      ],
      "metadata": {
        "id": "WfZGXbJqCRLp"
      },
      "execution_count": null,
      "outputs": []
    },
    {
      "cell_type": "markdown",
      "source": [
        "Iron man recorded 7 hits out of 10 shots (both integers). Convert them into float and calculate accuracy percentage.\n"
      ],
      "metadata": {
        "id": "mipBBOEYBVmS"
      }
    },
    {
      "cell_type": "code",
      "source": [
        "hits,total_Shots = 7,10\n",
        "acc = (hits/total_Shots)*100\n",
        "print(f\"The accuracy percentage is {float(acc)}\")"
      ],
      "metadata": {
        "colab": {
          "base_uri": "https://localhost:8080/"
        },
        "id": "Gpj65yirBkLS",
        "outputId": "80f576a7-2ad2-4b21-f125-32e9e068005d"
      },
      "execution_count": null,
      "outputs": [
        {
          "output_type": "stream",
          "name": "stdout",
          "text": [
            "The accuracy percentage is 70.0\n"
          ]
        }
      ]
    },
    {
      "cell_type": "markdown",
      "source": [
        "# Object Refrencing\n"
      ],
      "metadata": {
        "id": "gC9OcMNaEZJN"
      }
    },
    {
      "cell_type": "markdown",
      "source": [
        "# 1 Python varible hold references to objects, not the actual objects themselves.\n",
        "\n",
        "```\n",
        "a =[1,2,3]\n",
        "b=a\n",
        "print(f\"a original is :{a}\")\n",
        "b.append(4)\n",
        "print(b)\n",
        "\n",
        "```\n",
        "\n"
      ],
      "metadata": {
        "id": "0sSiemgZFUzH"
      }
    },
    {
      "cell_type": "code",
      "source": [
        "a =[1,2,3]\n",
        "b=a\n",
        "print(f\"a original is :{a}\")\n",
        "b.append(4)\n",
        "print(b)\n",
        "print(a)"
      ],
      "metadata": {
        "colab": {
          "base_uri": "https://localhost:8080/"
        },
        "id": "JwBoMRBsFk1c",
        "outputId": "b19d2f49-7970-4f49-b14f-1dd8b008fe57"
      },
      "execution_count": null,
      "outputs": [
        {
          "output_type": "stream",
          "name": "stdout",
          "text": [
            "a original is :[1, 2, 3]\n",
            "[1, 2, 3, 4]\n",
            "[1, 2, 3, 4]\n"
          ]
        }
      ]
    },
    {
      "cell_type": "markdown",
      "source": [
        "# Reassigning a varible doesn't affect other varibles referencing the same object unless explicitly updated\n",
        "\n",
        "```\n",
        "a = [1,2,3]\n",
        "b=a\n",
        "b=[4,5,6]\n",
        "\n",
        "print(\"a:\",a)\n",
        "print(\"b\",b)\n",
        "```\n",
        "\n"
      ],
      "metadata": {
        "id": "1aSfpkFWHZqI"
      }
    },
    {
      "cell_type": "code",
      "source": [
        "shield = ['vibranium', 'round']\n",
        "copy_shield = shield\n",
        "\n",
        "print(\"original shield is \", shield)\n",
        "print(\"wolverine changes the material\")\n",
        "copy_shield[0] = 'adamantium'\n",
        "print(\"new_shield\", shield)"
      ],
      "metadata": {
        "colab": {
          "base_uri": "https://localhost:8080/"
        },
        "id": "6Jye9lkmIJeQ",
        "outputId": "3fa94cca-d7cd-44b4-e30c-697f006de287"
      },
      "execution_count": null,
      "outputs": [
        {
          "output_type": "stream",
          "name": "stdout",
          "text": [
            "original shield is  ['vibranium', 'round']\n",
            "wolverine changes the material\n",
            "new_shield ['admantium', 'round']\n"
          ]
        }
      ]
    },
    {
      "cell_type": "markdown",
      "source": [
        "# Removing a varible"
      ],
      "metadata": {
        "id": "6-P-9kq5LFMJ"
      }
    },
    {
      "cell_type": "code",
      "source": [
        "# a = 10\n",
        "# del(a)\n",
        "# print(a) This code generates an error because we performed del(a) operation which deleted a"
      ],
      "metadata": {
        "id": "AgavOCBFLIyI"
      },
      "execution_count": null,
      "outputs": []
    },
    {
      "cell_type": "code",
      "source": [
        "x = [\"Apple\", \"banana\", \"orange\", \"cheery\", \"mango\", \"dragon fruit\", \"tomato\"]\n",
        "print(x)\n",
        "del(x[2:4])\n",
        "print(x)"
      ],
      "metadata": {
        "colab": {
          "base_uri": "https://localhost:8080/"
        },
        "id": "gOMQFl9ALYmf",
        "outputId": "5f219dbd-da36-4f3c-aed8-dd064d00506e"
      },
      "execution_count": null,
      "outputs": [
        {
          "output_type": "stream",
          "name": "stdout",
          "text": [
            "['Apple', 'banana', 'orange', 'cheery', 'mango', 'dragon fruit', 'tomato']\n",
            "['Apple', 'banana', 'mango', 'dragon fruit', 'tomato']\n"
          ]
        }
      ]
    },
    {
      "cell_type": "markdown",
      "source": [
        "# Dictionary"
      ],
      "metadata": {
        "id": "SxiT0_IGLDUZ"
      }
    },
    {
      "cell_type": "markdown",
      "source": [
        "You need to calculate the average of the power levels of the favourite avenger character. The output should print to 2 decimal places"
      ],
      "metadata": {
        "id": "5ngOqiUzv_bB"
      }
    },
    {
      "cell_type": "code",
      "source": [
        "power_levels = [23,235,4354,3463,36363]\n",
        "if power_levels:\n",
        "  avg = round(sum(power_levels)/len(power_levels),2)\n",
        "else:\n",
        "  avg = 0\n",
        "print(\"The average of the power levels is : \", avg)"
      ],
      "metadata": {
        "colab": {
          "base_uri": "https://localhost:8080/"
        },
        "id": "U0soklRVwMgo",
        "outputId": "90b9a16e-a141-43ab-cde0-70ca713fa474"
      },
      "execution_count": null,
      "outputs": [
        {
          "output_type": "stream",
          "name": "stdout",
          "text": [
            "The average of the power levels is :  8887.6\n"
          ]
        }
      ]
    },
    {
      "cell_type": "code",
      "source": [],
      "metadata": {
        "id": "Xhjz470QwpQA"
      },
      "execution_count": null,
      "outputs": []
    },
    {
      "cell_type": "markdown",
      "source": [
        "# String data type\n",
        "# 1 ordered collection of characters  arranged in a sequence\n",
        "# 2 string are array of bytes represented in unicode characters\n",
        "# 3 No seperate character is length of one\n",
        "# 4 String is reprensted using ' ' or \" \"  or \"\"\" \"\"\"\n",
        "# 5 strings are immutable, the keywore used to print a string is str() keyword\n",
        "\n"
      ],
      "metadata": {
        "id": "V5AqttwbHS8R"
      }
    },
    {
      "cell_type": "code",
      "source": [],
      "metadata": {
        "id": "tJd-62Z6HVrm"
      },
      "execution_count": null,
      "outputs": []
    },
    {
      "cell_type": "markdown",
      "source": [
        "**Q Create  a varible s1 = \"This is a string\" and print s1"
      ],
      "metadata": {
        "id": "ycSUJQZqIZtY"
      }
    },
    {
      "cell_type": "code",
      "source": [
        "s1 = \"This is a string\"\n",
        "print(s1)\n",
        "s2 = \"This\" + \"is\" + \"a\" + \"\"\"string\"\"\"\n",
        "print(s2)\n",
        "# in the code below by using a \\ we can  write a single string in multiple line\n",
        "s3 = \"this is an \\\n",
        " example of string written across multiple line\"\n",
        "print(s3)"
      ],
      "metadata": {
        "colab": {
          "base_uri": "https://localhost:8080/"
        },
        "id": "jPQKluuvIgrM",
        "outputId": "fd93a800-81e0-4115-ef30-40b20b6209ec"
      },
      "execution_count": null,
      "outputs": [
        {
          "output_type": "stream",
          "name": "stdout",
          "text": [
            "This is a string\n",
            "Thisisastring\n",
            "this is an  example of string written across multiple line\n"
          ]
        }
      ]
    },
    {
      "cell_type": "code",
      "source": [
        "hulk = \"Hulk: Smash!!\\n\"\n",
        "print(hulk*3)"
      ],
      "metadata": {
        "colab": {
          "base_uri": "https://localhost:8080/"
        },
        "id": "obXvZGkqKjfu",
        "outputId": "3b0dfdc0-4a88-47a1-fd97-5d84ebe1e5e6"
      },
      "execution_count": null,
      "outputs": [
        {
          "output_type": "stream",
          "name": "stdout",
          "text": [
            "Hulk: Smash!!\n",
            "Hulk: Smash!!\n",
            "Hulk: Smash!!\n",
            "\n"
          ]
        }
      ]
    },
    {
      "cell_type": "markdown",
      "source": [
        "A string can be repeated bye multiplying it by an integer"
      ],
      "metadata": {
        "id": "HFM1RocuLAR_"
      }
    },
    {
      "cell_type": "code",
      "source": [
        "batman = \"Mission Id #alpha bravo032\" # this is not a comment\n",
        "# including # symbol into a string doen't make it a comment\n",
        "print(batman)"
      ],
      "metadata": {
        "colab": {
          "base_uri": "https://localhost:8080/"
        },
        "id": "00Y-ZhvOMv9v",
        "outputId": "c0c454f6-ec52-44e6-8efb-da6f45268e2e"
      },
      "execution_count": null,
      "outputs": [
        {
          "output_type": "stream",
          "name": "stdout",
          "text": [
            "Mission Id #alpha bravo032\n"
          ]
        }
      ]
    },
    {
      "cell_type": "code",
      "source": [
        "# length of the string\n",
        "justiceleague = \"BATMAN\"\n",
        "print(len(justiceleague)) # counts space too\n",
        "print(justiceleague[3])\n",
        "print(justiceleague[-1])\n",
        "print(justiceleague[-0]) # 0 and -0 are same in python\n",
        "\n",
        "# slicing\n",
        "\n",
        "print(justiceleague[1:4:1]) # 4 is not included, the control goes upto 1 less than the limit\n",
        "print(justiceleague[-6:-3:1])\n",
        "print(justiceleague[-1:-7:-1])\n",
        "for ch in justiceleague:\n",
        "  print(ch, end = \"*\")\n",
        "\n",
        "print(justiceleague[:])"
      ],
      "metadata": {
        "colab": {
          "base_uri": "https://localhost:8080/"
        },
        "id": "JzYcKbDhM7Fb",
        "outputId": "3d500d38-21d8-4049-fc5f-bb72afc0386e"
      },
      "execution_count": null,
      "outputs": [
        {
          "output_type": "stream",
          "name": "stdout",
          "text": [
            "6\n",
            "M\n",
            "N\n",
            "B\n",
            "ATM\n",
            "BAT\n",
            "NAMTAB\n",
            "B*A*T*M*A*N*BATMAN\n"
          ]
        }
      ]
    },
    {
      "cell_type": "code",
      "source": [],
      "metadata": {
        "id": "Xs9RndslPOsr"
      },
      "execution_count": null,
      "outputs": []
    },
    {
      "cell_type": "markdown",
      "source": [
        "**Q** Write a program in python to select the parts of the sequence. These sequences are the token of text.\n",
        "Example:\n",
        "token = [\"Ironman\", \"Saves\", \"the\", \"day\", \"again\"]\n"
      ],
      "metadata": {
        "id": "PfZgks_vSegn"
      }
    },
    {
      "cell_type": "code",
      "source": [
        "# print the middle element of the array\n",
        "token = [\"Ironman\", \"Saves\", \"the\", \"day\", \"again\"]\n",
        "print(token[int(len(token)/2)])"
      ],
      "metadata": {
        "colab": {
          "base_uri": "https://localhost:8080/"
        },
        "id": "LiFKeItVSdOS",
        "outputId": "9650d67f-4a91-46ff-b1c6-8faf505deb16"
      },
      "execution_count": null,
      "outputs": [
        {
          "output_type": "stream",
          "name": "stdout",
          "text": [
            "the\n"
          ]
        }
      ]
    },
    {
      "cell_type": "markdown",
      "source": [
        "Slicing concept is usefull in text preprocessing(NLP) (natural language processing)\n",
        "\n",
        "It is also used in feature extraction, and sequence models eg: RNN, Transformer, LLM"
      ],
      "metadata": {
        "id": "6f6vyNMgUATm"
      }
    },
    {
      "cell_type": "markdown",
      "source": [
        "**Boolean**"
      ],
      "metadata": {
        "id": "aiuu5UJeAPm5"
      }
    },
    {
      "cell_type": "code",
      "source": [
        "print(type(True))"
      ],
      "metadata": {
        "colab": {
          "base_uri": "https://localhost:8080/"
        },
        "id": "VkWUUDp6Aeyj",
        "outputId": "26763391-2b21-4e2c-bbc1-64761d898b8e"
      },
      "execution_count": 2,
      "outputs": [
        {
          "output_type": "stream",
          "name": "stdout",
          "text": [
            "<class 'bool'>\n"
          ]
        }
      ]
    },
    {
      "cell_type": "code",
      "source": [
        "print(10>9>8)\n",
        "print(10>9<11)\n",
        "print(10>9<5)\n",
        "print(10>9 and 9>8)\n",
        "print(10>9 or 10<9)\n",
        "print(10>9 and 10<9)\n",
        "print(not 10>9)\n",
        "print(not 10<9)"
      ],
      "metadata": {
        "id": "Q1O_tS_MT-L-",
        "colab": {
          "base_uri": "https://localhost:8080/"
        },
        "outputId": "9b302d54-8156-4625-fda0-338c7d1aa5f3"
      },
      "execution_count": 9,
      "outputs": [
        {
          "output_type": "stream",
          "name": "stdout",
          "text": [
            "True\n",
            "True\n",
            "False\n",
            "True\n",
            "True\n",
            "False\n",
            "False\n",
            "True\n"
          ]
        }
      ]
    },
    {
      "cell_type": "code",
      "source": [
        "print(1^0)\n",
        "y = 20\n",
        "x = 10\n",
        "print(x^y)"
      ],
      "metadata": {
        "colab": {
          "base_uri": "https://localhost:8080/"
        },
        "id": "IL00GYrnDPsW",
        "outputId": "ea8b046b-f166-44d9-9cca-ff7984b29cc9"
      },
      "execution_count": 10,
      "outputs": [
        {
          "output_type": "stream",
          "name": "stdout",
          "text": [
            "1\n",
            "30\n"
          ]
        }
      ]
    },
    {
      "cell_type": "markdown",
      "source": [
        "Swap two varibles using XOR"
      ],
      "metadata": {
        "id": "TyvqhtzAD26T"
      }
    },
    {
      "cell_type": "code",
      "source": [
        "a = 2\n",
        "b =3\n",
        "a = a^b\n",
        "b = a^b\n",
        "a = a^b\n",
        "print(a,b)"
      ],
      "metadata": {
        "colab": {
          "base_uri": "https://localhost:8080/"
        },
        "id": "EcYnMKlAD7VC",
        "outputId": "bd9a831f-bc1a-4814-8e35-ae5783ae57c1"
      },
      "execution_count": 12,
      "outputs": [
        {
          "output_type": "stream",
          "name": "stdout",
          "text": [
            "3 2\n"
          ]
        }
      ]
    },
    {
      "cell_type": "markdown",
      "source": [
        "Find the XOR of two number 10 and 7\n"
      ],
      "metadata": {
        "id": "NxtA6wReFK4V"
      }
    },
    {
      "cell_type": "code",
      "source": [
        "a = 10\n",
        "b = 7\n",
        "print(a^b)"
      ],
      "metadata": {
        "colab": {
          "base_uri": "https://localhost:8080/"
        },
        "id": "MLxihwavFWq6",
        "outputId": "e9f2b0f9-ad79-482c-a723-bbe958d753d4"
      },
      "execution_count": 14,
      "outputs": [
        {
          "output_type": "stream",
          "name": "stdout",
          "text": [
            "13\n"
          ]
        }
      ]
    },
    {
      "cell_type": "markdown",
      "source": [
        "check if XOR is two number is odd or even a = 4, b= 7"
      ],
      "metadata": {
        "id": "2ivDRdxbFUU7"
      }
    },
    {
      "cell_type": "code",
      "source": [
        "a = 4\n",
        "b = 7\n",
        "c = a^b\n",
        "print(c)\n",
        "if(c%2==0):\n",
        "  print(\"Even\")\n",
        "else:\n",
        "  print(\"Odd\")"
      ],
      "metadata": {
        "colab": {
          "base_uri": "https://localhost:8080/"
        },
        "id": "RBO1wVzEFpDN",
        "outputId": "b43d52b7-2169-42fa-f6b1-c82fc8c946eb"
      },
      "execution_count": 17,
      "outputs": [
        {
          "output_type": "stream",
          "name": "stdout",
          "text": [
            "3\n",
            "Odd\n"
          ]
        }
      ]
    },
    {
      "cell_type": "markdown",
      "source": [
        "Application of XOR:\n",
        "it is used in bitwise encryption\n"
      ],
      "metadata": {
        "id": "b0NIG3IQGp53"
      }
    },
    {
      "cell_type": "code",
      "source": [
        "print(True + True + False)\n",
        "print(bool([]))\n",
        "print(bool(\" \"))"
      ],
      "metadata": {
        "colab": {
          "base_uri": "https://localhost:8080/"
        },
        "id": "xE5qjNptItzM",
        "outputId": "1542d6e5-2971-45b0-afdd-a0c73f186ab9"
      },
      "execution_count": 23,
      "outputs": [
        {
          "output_type": "stream",
          "name": "stdout",
          "text": [
            "2\n",
            "False\n",
            "True\n"
          ]
        }
      ]
    },
    {
      "cell_type": "code",
      "source": [
        "print(all([1,2,3]))\n",
        "print(all([0,2,3]))\n",
        "print(any([1,2,3]))\n",
        "print(any([0,2,3]))\n",
        "print(any([True, True]))"
      ],
      "metadata": {
        "colab": {
          "base_uri": "https://localhost:8080/"
        },
        "id": "QcF42zP1Jql0",
        "outputId": "5afdd5b3-0d8c-464b-f2d7-7f1b66e3d9e5"
      },
      "execution_count": 30,
      "outputs": [
        {
          "output_type": "stream",
          "name": "stdout",
          "text": [
            "True\n",
            "False\n",
            "True\n",
            "True\n",
            "True\n"
          ]
        }
      ]
    },
    {
      "cell_type": "code",
      "source": [
        "marks = [65, 90, 80, 95]\n",
        "print(any(m>=90 for m in marks))"
      ],
      "metadata": {
        "colab": {
          "base_uri": "https://localhost:8080/"
        },
        "id": "NAZsXzZmKtmj",
        "outputId": "edfe4fd0-3b16-4540-d543-9203b24c3963"
      },
      "execution_count": 33,
      "outputs": [
        {
          "output_type": "stream",
          "name": "stdout",
          "text": [
            "True\n"
          ]
        }
      ]
    }
  ]
}