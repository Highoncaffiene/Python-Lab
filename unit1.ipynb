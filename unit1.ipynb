{
  "nbformat": 4,
  "nbformat_minor": 0,
  "metadata": {
    "colab": {
      "provenance": [],
      "authorship_tag": "ABX9TyPSKk7oeaK6TxzD8ONdk2pq",
      "include_colab_link": true
    },
    "kernelspec": {
      "name": "python3",
      "display_name": "Python 3"
    },
    "language_info": {
      "name": "python"
    }
  },
  "cells": [
    {
      "cell_type": "markdown",
      "metadata": {
        "id": "view-in-github",
        "colab_type": "text"
      },
      "source": [
        "<a href=\"https://colab.research.google.com/github/Highoncaffiene/Python-Lab/blob/main/unit1.ipynb\" target=\"_parent\"><img src=\"https://colab.research.google.com/assets/colab-badge.svg\" alt=\"Open In Colab\"/></a>"
      ]
    },
    {
      "cell_type": "code",
      "execution_count": null,
      "metadata": {
        "id": "HiWAuYCDhGI6",
        "colab": {
          "base_uri": "https://localhost:8080/"
        },
        "outputId": "a89bb3a2-fe9c-4215-b393-d96ed7992c00"
      },
      "outputs": [
        {
          "output_type": "stream",
          "name": "stdout",
          "text": [
            "the score of hulk is 1000 and the score of thor is 2003\n",
            "the score of hulk is 2003 and the score of thor is 1000\n"
          ]
        }
      ],
      "source": [
        "hulk_score = 1000\n",
        "thor_score = 2003\n",
        "\n",
        "print(f\"the score of hulk is {hulk_score} and the score of thor is {thor_score}\")\n",
        "hulk_score,thor_score = thor_score,hulk_score\n",
        "print(f\"the score of hulk is {hulk_score} and the score of thor is {thor_score}\")"
      ]
    },
    {
      "cell_type": "markdown",
      "source": [
        "Thor's hammer weight is 5000(int), but you need to calculate the gravitational foirce which requires it as a flot."
      ],
      "metadata": {
        "id": "tvM-6DH_BoIf"
      }
    },
    {
      "cell_type": "code",
      "source": [
        "hammermass = 5000\n",
        "hammer_weight = hammermass * 9.8\n",
        "print(f\"weight of the hammer is {hammer_weight}\")\n"
      ],
      "metadata": {
        "id": "e-fkBlcmBqGR"
      },
      "execution_count": null,
      "outputs": []
    },
    {
      "cell_type": "markdown",
      "source": [
        "Hulk's strength level is recorded as a string input \"1000\". Convert it into an integrer and incrse it by 200\n",
        "\n"
      ],
      "metadata": {
        "id": "ScqmFzxpApaH"
      }
    },
    {
      "cell_type": "markdown",
      "source": [
        "# Swapping two varibles\n",
        "\n",
        "```\n",
        "\n",
        "```\n",
        "\n",
        "\n"
      ],
      "metadata": {
        "id": "2tic0Dco93yh"
      }
    },
    {
      "cell_type": "markdown",
      "source": [
        "Loki gets input in seconds(as strings) \"3600\". COnvert it itno an integer  and then to hours. Show final result as a float.\n",
        "\n",
        "\n",
        "\n",
        "\n",
        "\n"
      ],
      "metadata": {
        "id": "qdTZGANXBDvY"
      }
    },
    {
      "cell_type": "code",
      "source": [
        "time = \"3600\"\n",
        "inttime = int(time)\n",
        "print(f\"Time in hours is {inttime/3600}\")"
      ],
      "metadata": {
        "id": "WfZGXbJqCRLp"
      },
      "execution_count": null,
      "outputs": []
    },
    {
      "cell_type": "markdown",
      "source": [
        "Iron man recorded 7 hits out of 10 shots (both integers). Convert them into float and calculate accuracy percentage.\n"
      ],
      "metadata": {
        "id": "mipBBOEYBVmS"
      }
    },
    {
      "cell_type": "code",
      "source": [
        "hits,total_Shots = 7,10\n",
        "acc = (hits/total_Shots)*100\n",
        "print(f\"The accuracy percentage is {float(acc)}\")"
      ],
      "metadata": {
        "colab": {
          "base_uri": "https://localhost:8080/"
        },
        "id": "Gpj65yirBkLS",
        "outputId": "80f576a7-2ad2-4b21-f125-32e9e068005d"
      },
      "execution_count": null,
      "outputs": [
        {
          "output_type": "stream",
          "name": "stdout",
          "text": [
            "The accuracy percentage is 70.0\n"
          ]
        }
      ]
    },
    {
      "cell_type": "markdown",
      "source": [
        "# Object Refrencing\n"
      ],
      "metadata": {
        "id": "gC9OcMNaEZJN"
      }
    },
    {
      "cell_type": "markdown",
      "source": [
        "# 1 Python varible hold references to objects, not the actual objects themselves.\n",
        "\n",
        "```\n",
        "a =[1,2,3]\n",
        "b=a\n",
        "print(f\"a original is :{a}\")\n",
        "b.append(4)\n",
        "print(b)\n",
        "\n",
        "```\n",
        "\n"
      ],
      "metadata": {
        "id": "0sSiemgZFUzH"
      }
    },
    {
      "cell_type": "code",
      "source": [
        "a =[1,2,3]\n",
        "b=a\n",
        "print(f\"a original is :{a}\")\n",
        "b.append(4)\n",
        "print(b)\n",
        "print(a)"
      ],
      "metadata": {
        "colab": {
          "base_uri": "https://localhost:8080/"
        },
        "id": "JwBoMRBsFk1c",
        "outputId": "b19d2f49-7970-4f49-b14f-1dd8b008fe57"
      },
      "execution_count": 3,
      "outputs": [
        {
          "output_type": "stream",
          "name": "stdout",
          "text": [
            "a original is :[1, 2, 3]\n",
            "[1, 2, 3, 4]\n",
            "[1, 2, 3, 4]\n"
          ]
        }
      ]
    },
    {
      "cell_type": "markdown",
      "source": [
        "# Reassigning a varible doesn't affect other varibles referencing the same object unless explicitly updated\n",
        "\n",
        "```\n",
        "a = [1,2,3]\n",
        "b=a\n",
        "b=[4,5,6]\n",
        "\n",
        "print(\"a:\",a)\n",
        "print(\"b\",b)\n",
        "```\n",
        "\n"
      ],
      "metadata": {
        "id": "1aSfpkFWHZqI"
      }
    },
    {
      "cell_type": "code",
      "source": [
        "shield = ['vibranium', 'round']\n",
        "copy_shield = shield\n",
        "\n",
        "print(\"original shield is \", shield)\n",
        "print(\"wolverine changes the material\")\n",
        "copy_shield[0] = 'adamantium'\n",
        "print(\"new_shield\", shield)"
      ],
      "metadata": {
        "colab": {
          "base_uri": "https://localhost:8080/"
        },
        "id": "6Jye9lkmIJeQ",
        "outputId": "3fa94cca-d7cd-44b4-e30c-697f006de287"
      },
      "execution_count": 5,
      "outputs": [
        {
          "output_type": "stream",
          "name": "stdout",
          "text": [
            "original shield is  ['vibranium', 'round']\n",
            "wolverine changes the material\n",
            "new_shield ['admantium', 'round']\n"
          ]
        }
      ]
    },
    {
      "cell_type": "markdown",
      "source": [
        "# Removing a varible"
      ],
      "metadata": {
        "id": "6-P-9kq5LFMJ"
      }
    },
    {
      "cell_type": "code",
      "source": [
        "# a = 10\n",
        "# del(a)\n",
        "# print(a) This code generates an error because we performed del(a) operation which deleted a"
      ],
      "metadata": {
        "id": "AgavOCBFLIyI"
      },
      "execution_count": 8,
      "outputs": []
    },
    {
      "cell_type": "code",
      "source": [
        "x = [\"Apple\", \"banana\", \"orange\", \"cheery\", \"mango\", \"dragon fruit\", \"tomato\"]\n",
        "print(x)\n",
        "del(x[2:4])\n",
        "print(x)"
      ],
      "metadata": {
        "colab": {
          "base_uri": "https://localhost:8080/"
        },
        "id": "gOMQFl9ALYmf",
        "outputId": "5f219dbd-da36-4f3c-aed8-dd064d00506e"
      },
      "execution_count": 10,
      "outputs": [
        {
          "output_type": "stream",
          "name": "stdout",
          "text": [
            "['Apple', 'banana', 'orange', 'cheery', 'mango', 'dragon fruit', 'tomato']\n",
            "['Apple', 'banana', 'mango', 'dragon fruit', 'tomato']\n"
          ]
        }
      ]
    },
    {
      "cell_type": "markdown",
      "source": [
        "# Dictionary"
      ],
      "metadata": {
        "id": "SxiT0_IGLDUZ"
      }
    },
    {
      "cell_type": "code",
      "source": [],
      "metadata": {
        "id": "tD1ZHmXBNwJ9"
      },
      "execution_count": 10,
      "outputs": []
    }
  ]
}